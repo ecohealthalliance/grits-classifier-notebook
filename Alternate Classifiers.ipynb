{
 "cells": [
  {
   "cell_type": "code",
   "execution_count": 4,
   "metadata": {
    "collapsed": false
   },
   "outputs": [],
   "source": [
    "# load the training/validation resources and ontology data from AWS\n",
    "from boto.s3.connection import S3Connection, Location\n",
    "import datetime\n",
    "import os\n",
    "import time\n",
    "import pickle\n",
    "import diagnosis\n",
    "from diagnosis.KeywordExtractor import *\n",
    "import numpy as np\n",
    "import re\n",
    "import sklearn\n",
    "import disease_label_table\n",
    "from sklearn.pipeline import Pipeline\n",
    "from sklearn.feature_extraction import DictVectorizer\n",
    "from sklearn.multiclass import OneVsRestClassifier\n",
    "from sklearn.linear_model import LogisticRegression\n",
    "from sklearn.tree import DecisionTreeClassifier\n",
    "from sklearn.ensemble import AdaBoostClassifier\n",
    "from sklearn.svm import SVC\n",
    "from diagnosis.utils import group_by, flatten\n",
    "import warnings\n",
    "import pymongo\n",
    "from DataSet import fetch_datasets"
   ]
  },
  {
   "cell_type": "code",
   "execution_count": 5,
   "metadata": {
    "collapsed": true
   },
   "outputs": [],
   "source": [
    "with open('ontologies.p') as f:\n",
    "    keywords = pickle.load(f)"
   ]
  },
  {
   "cell_type": "code",
   "execution_count": 6,
   "metadata": {
    "collapsed": true
   },
   "outputs": [],
   "source": [
    "categories = set([\n",
    "    'hm/disease',\n",
    "    'biocaster/pathogens',\n",
    "    'biocaster/diseases',\n",
    "    'biocaster/symptoms',\n",
    "    'symp/symptoms',\n",
    "    'eha/symptom',\n",
    "    'eha/mode of transmission',\n",
    "    'eha/environmental factors',\n",
    "    'eha/vector',\n",
    "    'eha/occupation',\n",
    "    'eha/control measures',\n",
    "    'eha/description of infected',\n",
    "    'eha/disease category',\n",
    "    'eha/host',\n",
    "    'eha/host use',\n",
    "    'eha/symptom',\n",
    "    'eha/disease',\n",
    "    'eha/location', \n",
    "    'eha/transmission',\n",
    "    'eha/zoonotic type',\n",
    "    'eha/risk',\n",
    "    'wordnet/season',\n",
    "    'wordnet/climate',\n",
    "    'wordnet/pathogens',\n",
    "    'wordnet/hosts',\n",
    "    'wordnet/mod/severe',\n",
    "    'wordnet/mod/painful',\n",
    "    'wordnet/mod/large',\n",
    "    'wordnet/mod/rare',\n",
    "    'doid/has_symptom',\n",
    "    'doid/symptoms',\n",
    "    'doid/transmitted_by',\n",
    "    'doid/located_in',\n",
    "    'doid/diseases',\n",
    "    'doid/results_in',\n",
    "    'doid/has_material_basis_in',\n",
    "    'usgs/terrain'\n",
    "])"
   ]
  },
  {
   "cell_type": "code",
   "execution_count": 7,
   "metadata": {
    "collapsed": false
   },
   "outputs": [],
   "source": [
    "keyword_array = [\n",
    "    keyword_obj for keyword_obj in keywords\n",
    "    if keyword_obj['category'] in categories\n",
    "]"
   ]
  },
  {
   "cell_type": "code",
   "execution_count": 8,
   "metadata": {
    "collapsed": false
   },
   "outputs": [],
   "source": [
    "feature_extractor = Pipeline([\n",
    "    ('kwext', KeywordExtractor(keyword_array)),\n",
    "    ('link', LinkedKeywordAdder(keyword_array)),\n",
    "    ('limit', LimitCounts(1)),\n",
    "])"
   ]
  },
  {
   "cell_type": "code",
   "execution_count": 9,
   "metadata": {
    "collapsed": true
   },
   "outputs": [],
   "source": [
    "def best_guess(classifier, X):\n",
    "    probs = classifier.predict_proba(X)[0]\n",
    "    p_max = max(probs)\n",
    "    result = {}\n",
    "    \n",
    "    for i,p in enumerate(probs):\n",
    "        cutoff_ratio = 0.65\n",
    "        parents = disease_label_table.get_inferred_labels(classifier.classes_[i])\n",
    "        if p >= p_max * cutoff_ratio:\n",
    "            result[i] = max(p, result.get(i, 0))\n",
    "            for i2, label in enumerate(classifier.classes_):\n",
    "                if label in parents:\n",
    "                    result[i2] = max(p, probs[i2], result.get(i2, 0))\n",
    "    return result.items()"
   ]
  },
  {
   "cell_type": "markdown",
   "metadata": {},
   "source": [
    "Fetch Datasets:"
   ]
  },
  {
   "cell_type": "code",
   "execution_count": 11,
   "metadata": {
    "collapsed": false
   },
   "outputs": [
    {
     "name": "stdout",
     "output_type": "stream",
     "text": [
      "WARNING: Unknown disease label: Ricin\n",
      "WARNING: Unknown disease label: Murray Valley encephalitis \n",
      "WARNING: Unknown disease label: Influenza H1N1\n",
      "WARNING: Unknown disease label: Influenza H3N2\n",
      "WARNING: Unknown disease label: Influenza H1N1\n",
      "WARNING: Unknown disease label: Influenza H1N1\n",
      "WARNING: Unknown disease label: Influenza H1N1\n",
      "WARNING: Unknown disease label: Influenza H1N1\n",
      "WARNING: Unknown disease label: Influenza H1N1\n",
      "WARNING: Unknown disease label: Influenza H1N1\n",
      "WARNING: Unknown disease label: Influenza H1N1\n",
      "WARNING: Unknown disease label: Influenza H1N1\n",
      "WARNING: Unknown disease label: Influenza H1N1\n",
      "WARNING: Unknown disease label: Influenza H1N1\n",
      "WARNING: Unknown disease label: Influenza H1N1\n",
      "WARNING: Unknown disease label: Influenza H1N1\n",
      "WARNING: Unknown disease label: Influenza H1N1\n",
      "WARNING: Unknown disease label: Influenza H1N1\n",
      "WARNING: Unknown disease label: Influenza H1N1\n",
      "WARNING: Unknown disease label: Influenza H1N1\n",
      "WARNING: Unknown disease label: Influenza H1N1\n",
      "WARNING: Unknown disease label: Influenza H1N1\n",
      "WARNING: Unknown disease label: Influenza H1N1\n",
      "WARNING: Unknown disease label: Influenza H1N1\n",
      "WARNING: Unknown disease label: Influenza H1N1\n",
      "WARNING: Unknown disease label: Influenza H1N1\n",
      "WARNING: Unknown disease label: Influenza H1N1\n",
      "WARNING: Unknown disease label: Influenza H1N1\n",
      "WARNING: Unknown disease label: Influenza H1N1\n",
      "WARNING: Unknown disease label: Influenza H1N1\n",
      "WARNING: Unknown disease label: Influenza H1N1\n",
      "WARNING: Unknown disease label: Influenza H1N1\n",
      "WARNING: Unknown disease label: Influenza H1N1\n",
      "WARNING: Unknown disease label: Influenza H1N1\n",
      "WARNING: Unknown disease label: Influenza H1N1\n",
      "WARNING: Unknown disease label: Influenza H1N1\n",
      "WARNING: Unknown disease label: Influenza H1N1\n",
      "WARNING: Unknown disease label: Influenza H1N1\n",
      "WARNING: Unknown disease label: Influenza H1N1\n",
      "WARNING: Unknown disease label: Influenza H1N1\n",
      "WARNING: Unknown disease label: Influenza H1N1\n",
      "WARNING: Unknown disease label: Influenza H1N1\n",
      "WARNING: Unknown disease label: Influenza H1N1\n",
      "WARNING: Unknown disease label: Influenza H1N1\n",
      "WARNING: Unknown disease label: Influenza H1N1\n",
      "WARNING: Unknown disease label: Influenza H1N1\n",
      "WARNING: Unknown disease label: Influenza H1N1\n",
      "WARNING: Unknown disease label: Influenza H1N1\n",
      "WARNING: Unknown disease label: Influenza H1N1\n",
      "WARNING: Unknown disease label: Influenza H1N1\n",
      "WARNING: Unknown disease label: Influenza H1N1\n",
      "WARNING: Unknown disease label: Influenza H1N1\n",
      "WARNING: Unknown disease label: Influenza H1N1\n",
      "WARNING: Unknown disease label: Influenza H1N1\n",
      "WARNING: Unknown disease label: Influenza H1N1\n",
      "WARNING: Unknown disease label: Influenza H1N1\n",
      "WARNING: Unknown disease label: Influenza H1N1\n",
      "WARNING: Unknown disease label: Influenza H1N1\n",
      "WARNING: Unknown disease label: Influenza H1N1\n",
      "WARNING: Unknown disease label: Influenza H1N1\n",
      "WARNING: Unknown disease label: Influenza H1N1\n",
      "WARNING: Unknown disease label: Influenza H1N1\n",
      "WARNING: Unknown disease label: Influenza H1N1\n",
      "WARNING: Unknown disease label: Influenza H1N1\n",
      "WARNING: Unknown disease label: Influenza H1N1\n",
      "WARNING: Unknown disease label: Influenza H1N1\n",
      "WARNING: Unknown disease label: Influenza H1N1\n",
      "WARNING: Unknown disease label: Influenza H1N1\n",
      "WARNING: Unknown disease label: Influenza H1N1\n",
      "WARNING: Unknown disease label: Influenza H1N1\n",
      "WARNING: Unknown disease label: Influenza H1N1\n",
      "WARNING: Unknown disease label: Influenza H1N1\n",
      "WARNING: Unknown disease label: Influenza H1N1\n",
      "WARNING: Unknown disease label: Influenza H1N1\n",
      "WARNING: Unknown disease label: Influenza H1N1\n",
      "WARNING: Unknown disease label: Influenza H1N1\n",
      "time_offset_test_set size 4748  | rejected items: 1540\n",
      "mixed_test_set size 4017  | rejected items: 855\n",
      "training_set size 12070  | rejected items: 2427\n"
     ]
    }
   ],
   "source": [
    "time_offset_test_set, mixed_test_set, training_set = fetch_datasets()"
   ]
  },
  {
   "cell_type": "code",
   "execution_count": 12,
   "metadata": {
    "collapsed": false
   },
   "outputs": [],
   "source": [
    "time_offset_test_set.feature_extractor =\\\n",
    "mixed_test_set.feature_extractor =\\\n",
    "training_set.feature_extractor = feature_extractor"
   ]
  },
  {
   "cell_type": "code",
   "execution_count": 13,
   "metadata": {
    "collapsed": false
   },
   "outputs": [],
   "source": [
    "my_dict_vectorizer = DictVectorizer(sparse=False).fit(training_set.get_feature_dicts())"
   ]
  },
  {
   "cell_type": "code",
   "execution_count": 14,
   "metadata": {
    "collapsed": false
   },
   "outputs": [
    {
     "name": "stdout",
     "output_type": "stream",
     "text": [
      "Articles removed because of zero feature vectors:\n",
      "295 / 4748\n",
      "Articles removed because of zero feature vectors:\n",
      "106 / 4017\n",
      "Articles removed because of zero feature vectors:\n",
      "353 / 12070\n"
     ]
    }
   ],
   "source": [
    "time_offset_test_set.dict_vectorizer = \\\n",
    "mixed_test_set.dict_vectorizer = \\\n",
    "training_set.dict_vectorizer = my_dict_vectorizer\n",
    "\n",
    "time_offset_test_set.remove_zero_feature_vectors()\n",
    "mixed_test_set.remove_zero_feature_vectors()\n",
    "training_set.remove_zero_feature_vectors()"
   ]
  },
  {
   "cell_type": "code",
   "execution_count": 41,
   "metadata": {
    "collapsed": false
   },
   "outputs": [],
   "source": [
    "feature_array = np.array(training_set.get_feature_vectors())"
   ]
  },
  {
   "cell_type": "code",
   "execution_count": 42,
   "metadata": {
    "collapsed": false
   },
   "outputs": [],
   "source": [
    "label_array = np.array(training_set.get_labels())"
   ]
  },
  {
   "cell_type": "markdown",
   "metadata": {},
   "source": [
    "Testing:"
   ]
  },
  {
   "cell_type": "code",
   "execution_count": 26,
   "metadata": {
    "collapsed": false
   },
   "outputs": [],
   "source": [
    "classifiers = [\n",
    "    (OneVsRestClassifier(LogisticRegression(), n_jobs=-1), \"OneVsRest(Logistic Regression)\", True),\n",
    "    (DecisionTreeClassifier(), \"Decision Tree Classifier\", False),\n",
    "    (AdaBoostClassifier(DecisionTreeClassifier()), \"AdaBoost(Decision Tree Classifier)\", False),\n",
    "    (OneVsRestClassifier(SVC(probability=True), n_jobs=-1), \"OneVsRest(SVC)\", True)\n",
    "]"
   ]
  },
  {
   "cell_type": "code",
   "execution_count": 43,
   "metadata": {
    "collapsed": false
   },
   "outputs": [
    {
     "name": "stdout",
     "output_type": "stream",
     "text": [
      "### OneVsRest(Logistic Regression)\n",
      "Training time: 5.552573\n",
      "\n",
      "Mixed test set (micro) \n",
      "precision: 0.610424323421 recall: 0.843295638126 f-score: 0.708208159705\n",
      "\n",
      "Testing time: 48.357955\n",
      "\n",
      "### Decision Tree Classifier\n",
      "Training time: 16.90565\n",
      "\n",
      "Mixed test set (micro) \n",
      "precision: 0.762287334594 recall: 0.744518809139 f-score: 0.753298307064\n",
      "\n",
      "Testing time: 1.461998\n",
      "\n",
      "### AdaBoost(Decision Tree Classifier)\n",
      "Training time: 1370.665474\n",
      "\n",
      "Mixed test set (micro) \n",
      "precision: 0.812804284323 recall: 0.770597738288 f-score: 0.7911384907\n",
      "\n",
      "Testing time: 7.755878\n",
      "\n",
      "### OneVsRest(SVC)\n",
      "Training time: 13.489025\n",
      "\n",
      "Mixed test set (micro) \n",
      "precision: 0.580855461918 recall: 0.843064851142 f-score: 0.687817736773\n",
      "\n",
      "Testing time: 504.577304\n",
      "\n"
     ]
    }
   ],
   "source": [
    "with warnings.catch_warnings():\n",
    "    # The updated version of scikit will spam warnings here.\n",
    "    warnings.simplefilter(\"ignore\")\n",
    "\n",
    "    for (my_classifier, classifier_label, add_parents) in classifiers:\n",
    "        print(\"### \" + classifier_label)\n",
    "        before_time = time.clock()\n",
    "        my_classifier.fit(feature_array, label_array)\n",
    "        after_time = time.clock()\n",
    "        print(\"Training time: \" + str(after_time - before_time) + \"\\n\")\n",
    "\n",
    "        before_time = time.clock()\n",
    "        data_set = mixed_test_set.get_feature_vectors()\n",
    "\n",
    "        y_true = mixed_test_set.get_labels()\n",
    "        if add_parents:\n",
    "            guesses = [best_guess(my_classifier, vector) for vector in data_set]\n",
    "            y_pred = []\n",
    "            for guess in guesses:\n",
    "                y_pred.append([my_classifier.classes_[i] for (i, p) in guess])\n",
    "        else:\n",
    "            y_pred = my_classifier.predict(data_set)\n",
    "        print (\"Mixed test set\" + \" (micro) \\n\"\n",
    "            \"precision: %s recall: %s f-score: %s\\n\") %\\\n",
    "            sklearn.metrics.precision_recall_fscore_support(y_true, y_pred, average='micro')[0:3]\n",
    "        after_time = time.clock()\n",
    "        print(\"Testing time: \" + str(after_time - before_time) + '\\n')\n"
   ]
  },
  {
   "cell_type": "markdown",
   "metadata": {
    "collapsed": true
   },
   "source": [
    "## m = 500\n",
    "\n",
    "### OneVsRest(Logistic Regression)\n",
    "Training time: 6.332283\n",
    "\n",
    "Mixed test set (micro) \n",
    "precision: 0.400906953309 recall: 0.550888529887 f-score: 0.464080878779\n",
    "\n",
    "Testing time: 20.615556\n",
    "\n",
    "### Decision Tree Classifier\n",
    "Training time: 0.12318\n",
    "\n",
    "Mixed test set (micro) \n",
    "precision: 0.476247600768 recall: 0.458112162474 f-score: 0.467003881896\n",
    "\n",
    "Testing time: 1.44014\n",
    "\n",
    "### AdaBoost(Decision Tree Classifier)\n",
    "Training time: 6.071795\n",
    "\n",
    "Mixed test set (micro) \n",
    "precision: 0.490306748466 recall: 0.461112393261 f-score: 0.475261655566\n",
    "\n",
    "Testing time: 2.950545\n",
    "\n",
    "### OneVsRest(SVC)\n",
    "Training time: 7.336626\n",
    "\n",
    "Mixed test set (micro) \n",
    "precision: 0.395055499495 recall: 0.54211862451 f-score: 0.457048351007\n",
    "\n",
    "Testing time: 61.903635\n",
    "\n",
    "## m = 1000\n",
    "\n",
    "### OneVsRest(Logistic Regression)\n",
    "Training time: 14.271383\n",
    "\n",
    "Mixed test set (micro) \n",
    "precision: 0.447527749748 recall: 0.614124163397 f-score: 0.517754645394\n",
    "\n",
    "Testing time: 29.604462\n",
    "\n",
    "### Decision Tree Classifier\n",
    "Training time: 0.407042\n",
    "\n",
    "Mixed test set (micro) \n",
    "precision: 0.481132075472 recall: 0.506115855066 f-score: 0.493307839388\n",
    "\n",
    "Testing time: 1.418815\n",
    "\n",
    "### AdaBoost(Decision Tree Classifier)\n",
    "Training time: 23.979863\n",
    "\n",
    "Mixed test set (micro) \n",
    "precision: 0.514231945425 recall: 0.50450034618 f-score: 0.509319664492\n",
    "\n",
    "Testing time: 3.718768\n",
    "\n",
    "### OneVsRest(SVC)\n",
    "Training time: 15.213411\n",
    "\n",
    "Mixed test set (micro) \n",
    "precision: 0.443290190736 recall: 0.600738518348 f-score: 0.510142087212\n",
    "\n",
    "Testing time: 105.059295\n",
    "\n",
    "## m = 1500\n",
    "\n",
    "### OneVsRest(Logistic Regression)\n",
    "Training time: 22.132444\n",
    "\n",
    "Mixed test set (micro) \n",
    "precision: 0.455324760963 recall: 0.637433648742 f-score: 0.53120492355\n",
    "\n",
    "Testing time: 31.525444\n",
    "\n",
    "### Decision Tree Classifier\n",
    "Training time: 0.730307\n",
    "\n",
    "Mixed test set (micro) \n",
    "precision: 0.549645390071 recall: 0.536579736903 f-score: 0.543033983417\n",
    "\n",
    "Testing time: 1.496526\n",
    "\n",
    "### AdaBoost(Decision Tree Classifier)\n",
    "Training time: 42.194042\n",
    "\n",
    "Mixed test set (micro) \n",
    "precision: 0.565987384765 recall: 0.538426032772 f-score: 0.551862803075\n",
    "\n",
    "Testing time: 3.969732\n",
    "\n",
    "### OneVsRest(SVC)\n",
    "Training time: 24.355333\n",
    "\n",
    "Mixed test set (micro) \n",
    "precision: 0.438128140704 recall: 0.643895684283 f-score: 0.521446593776\n",
    "\n",
    "Testing time: 127.603342\n",
    "\n",
    "## m = 5000\n",
    "### OneVsRest(Logistic Regression)\n",
    "Training time: 3.940271\n",
    "\n",
    "Mixed test set (micro) \n",
    "precision: 0.592518703242 recall: 0.822524809601 f-score: 0.688828759181\n",
    "\n",
    "Testing time: 38.07443\n",
    "\n",
    "### Decision Tree Classifier\n",
    "Training time: 4.146893\n",
    "\n",
    "Mixed test set (micro) \n",
    "precision: 0.741920152091 recall: 0.720516962843 f-score: 0.731061936541\n",
    "\n",
    "Testing time: 1.408146\n",
    "\n",
    "### AdaBoost(Decision Tree Classifier)\n",
    "Training time: 269.452073\n",
    "\n",
    "Mixed test set (micro) \n",
    "precision: 0.774327628362 recall: 0.730902377106 f-score: 0.751988602636\n",
    "\n",
    "Testing time: 5.184815\n",
    "\n",
    "### OneVsRest(SVC)\n",
    "Training time: 7.266914\n",
    "\n",
    "Mixed test set (micro) \n",
    "precision: 0.564147348365 recall: 0.819986152781 f-score: 0.668422537861\n",
    "\n",
    "Testing time: 281.247301\n"
   ]
  },
  {
   "cell_type": "code",
   "execution_count": null,
   "metadata": {
    "collapsed": true
   },
   "outputs": [],
   "source": []
  }
 ],
 "metadata": {
  "kernelspec": {
   "display_name": "Python 2",
   "language": "python",
   "name": "python2"
  },
  "language_info": {
   "codemirror_mode": {
    "name": "ipython",
    "version": 2
   },
   "file_extension": ".py",
   "mimetype": "text/x-python",
   "name": "python",
   "nbconvert_exporter": "python",
   "pygments_lexer": "ipython2",
   "version": "2.7.6"
  }
 },
 "nbformat": 4,
 "nbformat_minor": 0
}
