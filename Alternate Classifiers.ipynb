{
 "cells": [
  {
   "cell_type": "code",
   "execution_count": 51,
   "metadata": {
    "collapsed": false
   },
   "outputs": [],
   "source": [
    "# load the training/validation resources and ontology data from AWS\n",
    "from boto.s3.connection import S3Connection, Location\n",
    "import datetime\n",
    "import os\n",
    "import time\n",
    "import pickle\n",
    "import diagnosis\n",
    "from diagnosis.KeywordExtractor import *\n",
    "import numpy as np\n",
    "import re\n",
    "import sklearn\n",
    "import disease_label_table\n",
    "from sklearn.pipeline import Pipeline\n",
    "from sklearn.feature_extraction import DictVectorizer\n",
    "from sklearn.multiclass import OneVsRestClassifier\n",
    "from sklearn.linear_model import LogisticRegression\n",
    "from sklearn.tree import DecisionTreeClassifier\n",
    "from sklearn.ensemble import AdaBoostClassifier\n",
    "from sklearn.svm import SVC\n",
    "from diagnosis.utils import group_by, flatten\n",
    "import warnings\n",
    "import pymongo\n",
    "from DataSet import fetch_datasets"
   ]
  },
  {
   "cell_type": "code",
   "execution_count": 3,
   "metadata": {
    "collapsed": true
   },
   "outputs": [],
   "source": [
    "with open('ontologies.p') as f:\n",
    "    keywords = pickle.load(f)"
   ]
  },
  {
   "cell_type": "code",
   "execution_count": 4,
   "metadata": {
    "collapsed": true
   },
   "outputs": [],
   "source": [
    "categories = set([\n",
    "    'hm/disease',\n",
    "    'biocaster/pathogens',\n",
    "    'biocaster/diseases',\n",
    "    'biocaster/symptoms',\n",
    "    'symp/symptoms',\n",
    "    'eha/symptom',\n",
    "    'eha/mode of transmission',\n",
    "    'eha/environmental factors',\n",
    "    'eha/vector',\n",
    "    'eha/occupation',\n",
    "    'eha/control measures',\n",
    "    'eha/description of infected',\n",
    "    'eha/disease category',\n",
    "    'eha/host',\n",
    "    'eha/host use',\n",
    "    'eha/symptom',\n",
    "    'eha/disease',\n",
    "    'eha/location', \n",
    "    'eha/transmission',\n",
    "    'eha/zoonotic type',\n",
    "    'eha/risk',\n",
    "    'wordnet/season',\n",
    "    'wordnet/climate',\n",
    "    'wordnet/pathogens',\n",
    "    'wordnet/hosts',\n",
    "    'wordnet/mod/severe',\n",
    "    'wordnet/mod/painful',\n",
    "    'wordnet/mod/large',\n",
    "    'wordnet/mod/rare',\n",
    "    'doid/has_symptom',\n",
    "    'doid/symptoms',\n",
    "    'doid/transmitted_by',\n",
    "    'doid/located_in',\n",
    "    'doid/diseases',\n",
    "    'doid/results_in',\n",
    "    'doid/has_material_basis_in',\n",
    "    'usgs/terrain'\n",
    "])"
   ]
  },
  {
   "cell_type": "code",
   "execution_count": 5,
   "metadata": {
    "collapsed": false
   },
   "outputs": [],
   "source": [
    "keyword_array = [\n",
    "    keyword_obj for keyword_obj in keywords\n",
    "    if keyword_obj['category'] in categories\n",
    "]"
   ]
  },
  {
   "cell_type": "code",
   "execution_count": 6,
   "metadata": {
    "collapsed": false
   },
   "outputs": [],
   "source": [
    "feature_extractor = Pipeline([\n",
    "    ('kwext', KeywordExtractor(keyword_array)),\n",
    "    ('link', LinkedKeywordAdder(keyword_array)),\n",
    "    ('limit', LimitCounts(1)),\n",
    "])"
   ]
  },
  {
   "cell_type": "code",
   "execution_count": 7,
   "metadata": {
    "collapsed": true
   },
   "outputs": [],
   "source": [
    "def best_guess(classifier, X):\n",
    "    probs = classifier.predict_proba(X)[0]\n",
    "    p_max = max(probs)\n",
    "    result = {}\n",
    "    for i,p in enumerate(probs):\n",
    "        cutoff_ratio = 0.65\n",
    "        parents = disease_label_table.get_inferred_labels(classifier.classes_[i])\n",
    "        if p >= p_max * cutoff_ratio:\n",
    "            result[i] = max(p, result.get(i, 0))\n",
    "            for i2, label in enumerate(classifier.classes_):\n",
    "                if label in parents:\n",
    "                    result[i2] = max(p, probs[i2], result.get(i2, 0))\n",
    "    return result.items()"
   ]
  },
  {
   "cell_type": "markdown",
   "metadata": {},
   "source": [
    "Fetch Datasets:"
   ]
  },
  {
   "cell_type": "code",
   "execution_count": 8,
   "metadata": {
    "collapsed": false
   },
   "outputs": [
    {
     "name": "stdout",
     "output_type": "stream",
     "text": [
      "WARNING: Unknown disease label: Ricin\n",
      "WARNING: Unknown disease label: Murray Valley encephalitis \n",
      "WARNING: Unknown disease label: Influenza H1N1\n",
      "WARNING: Unknown disease label: Influenza H3N2\n",
      "WARNING: Unknown disease label: Influenza H1N1\n",
      "WARNING: Unknown disease label: Influenza H1N1\n",
      "WARNING: Unknown disease label: Influenza H1N1\n",
      "WARNING: Unknown disease label: Influenza H1N1\n",
      "WARNING: Unknown disease label: Influenza H1N1\n",
      "WARNING: Unknown disease label: Influenza H1N1\n",
      "WARNING: Unknown disease label: Influenza H1N1\n",
      "WARNING: Unknown disease label: Influenza H1N1\n",
      "WARNING: Unknown disease label: Influenza H1N1\n",
      "WARNING: Unknown disease label: Influenza H1N1\n",
      "WARNING: Unknown disease label: Influenza H1N1\n",
      "WARNING: Unknown disease label: Influenza H1N1\n",
      "WARNING: Unknown disease label: Influenza H1N1\n",
      "WARNING: Unknown disease label: Influenza H1N1\n",
      "WARNING: Unknown disease label: Influenza H1N1\n",
      "WARNING: Unknown disease label: Influenza H1N1\n",
      "WARNING: Unknown disease label: Influenza H1N1\n",
      "WARNING: Unknown disease label: Influenza H1N1\n",
      "WARNING: Unknown disease label: Influenza H1N1\n",
      "WARNING: Unknown disease label: Influenza H1N1\n",
      "WARNING: Unknown disease label: Influenza H1N1\n",
      "WARNING: Unknown disease label: Influenza H1N1\n",
      "WARNING: Unknown disease label: Influenza H1N1\n",
      "WARNING: Unknown disease label: Influenza H1N1\n",
      "WARNING: Unknown disease label: Influenza H1N1\n",
      "WARNING: Unknown disease label: Influenza H1N1\n",
      "WARNING: Unknown disease label: Influenza H1N1\n",
      "WARNING: Unknown disease label: Influenza H1N1\n",
      "WARNING: Unknown disease label: Influenza H1N1\n",
      "WARNING: Unknown disease label: Influenza H1N1\n",
      "WARNING: Unknown disease label: Influenza H1N1\n",
      "WARNING: Unknown disease label: Influenza H1N1\n",
      "WARNING: Unknown disease label: Influenza H1N1\n",
      "WARNING: Unknown disease label: Influenza H1N1\n",
      "WARNING: Unknown disease label: Influenza H1N1\n",
      "WARNING: Unknown disease label: Influenza H1N1\n",
      "WARNING: Unknown disease label: Influenza H1N1\n",
      "WARNING: Unknown disease label: Influenza H1N1\n",
      "WARNING: Unknown disease label: Influenza H1N1\n",
      "WARNING: Unknown disease label: Influenza H1N1\n",
      "WARNING: Unknown disease label: Influenza H1N1\n",
      "WARNING: Unknown disease label: Influenza H1N1\n",
      "WARNING: Unknown disease label: Influenza H1N1\n",
      "WARNING: Unknown disease label: Influenza H1N1\n",
      "WARNING: Unknown disease label: Influenza H1N1\n",
      "WARNING: Unknown disease label: Influenza H1N1\n",
      "WARNING: Unknown disease label: Influenza H1N1\n",
      "WARNING: Unknown disease label: Influenza H1N1\n",
      "WARNING: Unknown disease label: Influenza H1N1\n",
      "WARNING: Unknown disease label: Influenza H1N1\n",
      "WARNING: Unknown disease label: Influenza H1N1\n",
      "WARNING: Unknown disease label: Influenza H1N1\n",
      "WARNING: Unknown disease label: Influenza H1N1\n",
      "WARNING: Unknown disease label: Influenza H1N1\n",
      "WARNING: Unknown disease label: Influenza H1N1\n",
      "WARNING: Unknown disease label: Influenza H1N1\n",
      "WARNING: Unknown disease label: Influenza H1N1\n",
      "WARNING: Unknown disease label: Influenza H1N1\n",
      "WARNING: Unknown disease label: Influenza H1N1\n",
      "WARNING: Unknown disease label: Influenza H1N1\n",
      "WARNING: Unknown disease label: Influenza H1N1\n",
      "WARNING: Unknown disease label: Influenza H1N1\n",
      "WARNING: Unknown disease label: Influenza H1N1\n",
      "WARNING: Unknown disease label: Influenza H1N1\n",
      "WARNING: Unknown disease label: Influenza H1N1\n",
      "WARNING: Unknown disease label: Influenza H1N1\n",
      "WARNING: Unknown disease label: Influenza H1N1\n",
      "WARNING: Unknown disease label: Influenza H1N1\n",
      "WARNING: Unknown disease label: Influenza H1N1\n",
      "WARNING: Unknown disease label: Influenza H1N1\n",
      "WARNING: Unknown disease label: Influenza H1N1\n",
      "WARNING: Unknown disease label: Influenza H1N1\n",
      "time_offset_test_set size 4748  | rejected items: 1540\n",
      "mixed_test_set size 4017  | rejected items: 855\n",
      "training_set size 12070  | rejected items: 2427\n"
     ]
    }
   ],
   "source": [
    "time_offset_test_set, mixed_test_set, training_set = fetch_datasets()"
   ]
  },
  {
   "cell_type": "markdown",
   "metadata": {},
   "source": [
    "Load dataset pickles:"
   ]
  },
  {
   "cell_type": "code",
   "execution_count": 9,
   "metadata": {
    "collapsed": false
   },
   "outputs": [],
   "source": [
    "time_offset_test_set.feature_extractor =\\\n",
    "mixed_test_set.feature_extractor =\\\n",
    "training_set.feature_extractor = feature_extractor"
   ]
  },
  {
   "cell_type": "code",
   "execution_count": 10,
   "metadata": {
    "collapsed": false
   },
   "outputs": [],
   "source": [
    "my_dict_vectorizer = DictVectorizer(sparse=False).fit(training_set.get_feature_dicts())"
   ]
  },
  {
   "cell_type": "code",
   "execution_count": 12,
   "metadata": {
    "collapsed": false
   },
   "outputs": [
    {
     "name": "stdout",
     "output_type": "stream",
     "text": [
      "Articles removed because of zero feature vectors:\n",
      "295 / 4748\n",
      "Articles removed because of zero feature vectors:\n",
      "106 / 4017\n",
      "Articles removed because of zero feature vectors:\n",
      "353 / 12070\n"
     ]
    }
   ],
   "source": [
    "time_offset_test_set.dict_vectorizer = \\\n",
    "mixed_test_set.dict_vectorizer = \\\n",
    "training_set.dict_vectorizer = my_dict_vectorizer\n",
    "\n",
    "time_offset_test_set.remove_zero_feature_vectors()\n",
    "mixed_test_set.remove_zero_feature_vectors()\n",
    "training_set.remove_zero_feature_vectors()"
   ]
  },
  {
   "cell_type": "code",
   "execution_count": 88,
   "metadata": {
    "collapsed": false
   },
   "outputs": [],
   "source": [
    "my_classifier = OneVsRestClassifier(LogisticRegression(), n_jobs=-1)"
   ]
  },
  {
   "cell_type": "code",
   "execution_count": 80,
   "metadata": {
    "collapsed": true
   },
   "outputs": [],
   "source": [
    "my_classifier = OneVsRestClassifier(SVC(), n_jobs=-1)"
   ]
  },
  {
   "cell_type": "code",
   "execution_count": 83,
   "metadata": {
    "collapsed": true
   },
   "outputs": [],
   "source": [
    "my_classifier = DecisionTreeClassifier()"
   ]
  },
  {
   "cell_type": "code",
   "execution_count": 91,
   "metadata": {
    "collapsed": false
   },
   "outputs": [],
   "source": [
    "my_classifier = AdaBoostClassifier(DecisionTreeClassifier())"
   ]
  },
  {
   "cell_type": "code",
   "execution_count": 93,
   "metadata": {
    "collapsed": false
   },
   "outputs": [],
   "source": [
    "feature_array = np.array(training_set.get_feature_vectors()[0:10])"
   ]
  },
  {
   "cell_type": "code",
   "execution_count": 94,
   "metadata": {
    "collapsed": false
   },
   "outputs": [],
   "source": [
    "label_array = np.array(training_set.get_labels()[0:10])"
   ]
  },
  {
   "cell_type": "markdown",
   "metadata": {},
   "source": [
    "## Dimensions\n",
    "\n",
    "Feature array: 3812 x 11717\n",
    "\n",
    "Label array: 1 x 11717\n",
    "\n"
   ]
  },
  {
   "cell_type": "code",
   "execution_count": 95,
   "metadata": {
    "collapsed": false
   },
   "outputs": [
    {
     "name": "stderr",
     "output_type": "stream",
     "text": [
      "/Library/Python/2.7/site-packages/sklearn/utils/validation.py:449: DataConversionWarning: A column-vector y was passed when a 1d array was expected. Please change the shape of y to (n_samples, ), for example using ravel().\n",
      "  y = column_or_1d(y, warn=True)\n"
     ]
    },
    {
     "data": {
      "text/plain": [
       "'Training time: 0.101526'"
      ]
     },
     "execution_count": 95,
     "metadata": {},
     "output_type": "execute_result"
    }
   ],
   "source": [
    "before_time = time.clock()\n",
    "my_classifier.fit(feature_array, label_array)\n",
    "after_time = time.clock()\n",
    "\"Training time: \" + str(after_time - before_time)"
   ]
  },
  {
   "cell_type": "markdown",
   "metadata": {},
   "source": [
    "Testing:"
   ]
  },
  {
   "cell_type": "code",
   "execution_count": 97,
   "metadata": {
    "collapsed": false
   },
   "outputs": [
    {
     "name": "stderr",
     "output_type": "stream",
     "text": [
      "/Library/Python/2.7/site-packages/sklearn/utils/multiclass.py:198: DeprecationWarning: Direct support for sequence of sequences multilabel representation will be unavailable from version 0.17. Use sklearn.preprocessing.MultiLabelBinarizer to convert to a label indicator representation.\n",
      "  DeprecationWarning)\n",
      "/Library/Python/2.7/site-packages/sklearn/utils/multiclass.py:198: DeprecationWarning: Direct support for sequence of sequences multilabel representation will be unavailable from version 0.17. Use sklearn.preprocessing.MultiLabelBinarizer to convert to a label indicator representation.\n",
      "  DeprecationWarning)\n",
      "/Library/Python/2.7/site-packages/sklearn/utils/multiclass.py:198: DeprecationWarning: Direct support for sequence of sequences multilabel representation will be unavailable from version 0.17. Use sklearn.preprocessing.MultiLabelBinarizer to convert to a label indicator representation.\n",
      "  DeprecationWarning)\n",
      "/Library/Python/2.7/site-packages/sklearn/utils/multiclass.py:198: DeprecationWarning: Direct support for sequence of sequences multilabel representation will be unavailable from version 0.17. Use sklearn.preprocessing.MultiLabelBinarizer to convert to a label indicator representation.\n",
      "  DeprecationWarning)\n",
      "/Library/Python/2.7/site-packages/sklearn/utils/multiclass.py:198: DeprecationWarning: Direct support for sequence of sequences multilabel representation will be unavailable from version 0.17. Use sklearn.preprocessing.MultiLabelBinarizer to convert to a label indicator representation.\n",
      "  DeprecationWarning)\n"
     ]
    },
    {
     "name": "stdout",
     "output_type": "stream",
     "text": [
      "Training set\n",
      "precision: 0.119911240079 recall: 0.0794099361329 f-score: 0.095545732744\n",
      "Testing time: 3.001529\n",
      "Time offset set\n",
      "precision: 0.179878733438 recall: 0.125430629502 f-score: 0.14779961251"
     ]
    },
    {
     "name": "stderr",
     "output_type": "stream",
     "text": [
      "/Library/Python/2.7/site-packages/sklearn/utils/multiclass.py:198: DeprecationWarning: Direct support for sequence of sequences multilabel representation will be unavailable from version 0.17. Use sklearn.preprocessing.MultiLabelBinarizer to convert to a label indicator representation.\n",
      "  DeprecationWarning)\n",
      "/Library/Python/2.7/site-packages/sklearn/utils/multiclass.py:198: DeprecationWarning: Direct support for sequence of sequences multilabel representation will be unavailable from version 0.17. Use sklearn.preprocessing.MultiLabelBinarizer to convert to a label indicator representation.\n",
      "  DeprecationWarning)\n",
      "/Library/Python/2.7/site-packages/sklearn/utils/multiclass.py:198: DeprecationWarning: Direct support for sequence of sequences multilabel representation will be unavailable from version 0.17. Use sklearn.preprocessing.MultiLabelBinarizer to convert to a label indicator representation.\n",
      "  DeprecationWarning)\n",
      "/Library/Python/2.7/site-packages/sklearn/utils/multiclass.py:198: DeprecationWarning: Direct support for sequence of sequences multilabel representation will be unavailable from version 0.17. Use sklearn.preprocessing.MultiLabelBinarizer to convert to a label indicator representation.\n",
      "  DeprecationWarning)\n"
     ]
    },
    {
     "name": "stdout",
     "output_type": "stream",
     "text": [
      "\n",
      "Testing time: 1.109504\n",
      "Mixed test set\n",
      "precision: 0.116594221427 recall: 0.0763691174008 f-score: 0.0922890103218\n",
      "Testing time: 0.999387\n"
     ]
    },
    {
     "name": "stderr",
     "output_type": "stream",
     "text": [
      "/Library/Python/2.7/site-packages/sklearn/utils/multiclass.py:198: DeprecationWarning: Direct support for sequence of sequences multilabel representation will be unavailable from version 0.17. Use sklearn.preprocessing.MultiLabelBinarizer to convert to a label indicator representation.\n",
      "  DeprecationWarning)\n",
      "/Library/Python/2.7/site-packages/sklearn/utils/multiclass.py:198: DeprecationWarning: Direct support for sequence of sequences multilabel representation will be unavailable from version 0.17. Use sklearn.preprocessing.MultiLabelBinarizer to convert to a label indicator representation.\n",
      "  DeprecationWarning)\n",
      "/Library/Python/2.7/site-packages/sklearn/utils/multiclass.py:198: DeprecationWarning: Direct support for sequence of sequences multilabel representation will be unavailable from version 0.17. Use sklearn.preprocessing.MultiLabelBinarizer to convert to a label indicator representation.\n",
      "  DeprecationWarning)\n"
     ]
    }
   ],
   "source": [
    "for data_set, ds_label, print_label_breakdown in [\n",
    "    (training_set, \"Training set\", False),\n",
    "    (time_offset_test_set, \"Time offset set\", True),\n",
    "    (mixed_test_set, \"Mixed test set\", False),\n",
    "]:\n",
    "    before_time = time.clock()\n",
    "    guesses = [best_guess(my_classifier, vector) for vector in data_set.get_feature_vectors()]\n",
    "    y_pred = []\n",
    "    for guess in guesses:\n",
    "        y_pred.append([my_classifier.classes_[i] for (i, p) in guess])\n",
    "    print (ds_label + \"\\n\"\n",
    "        \"precision: %s recall: %s f-score: %s\") %\\\n",
    "        sklearn.metrics.precision_recall_fscore_support(\n",
    "            data_set.get_labels(add_parents=True),\n",
    "            y_pred,\n",
    "            average='micro')[0:3]\n",
    "    after_time = time.clock()\n",
    "    print(\"Testing time: \" + str(after_time - before_time))"
   ]
  },
  {
   "cell_type": "markdown",
   "metadata": {
    "collapsed": true
   },
   "source": [
    "### Logistic regression (old diagnosis method):\n",
    "\n",
    "Training set (micro avg):\n",
    "precision: 0.939472644119 recall: 0.940428418018 f-score: 0.939950288103\n",
    "\n",
    "Time offset test set (micro avg):\n",
    "precision: 0.801928783383 recall: 0.846382712183 f-score: 0.823556300472\n",
    "\n",
    "Mixed test set (micro avg):\n",
    "precision: 0.864066193853 recall: 0.856975381008 f-score: 0.860506180106"
   ]
  },
  {
   "cell_type": "markdown",
   "metadata": {
    "collapsed": true
   },
   "source": [
    "## OneVsMany(SVC)\n",
    "Training time: 8.834822\n",
    "\n",
    "Training set\n",
    "precision: 0.108560211658 recall: 0.0996708979784 f-score: 0.103925813963\n",
    "\n",
    "Time offset set\n",
    "precision: 0.180327868852 recall: 0.169337832138 f-score: 0.174660141381\n",
    "\n",
    "Mixed test set\n",
    "precision: 0.11454870877 recall: 0.103392568659 f-score: 0.108685104318\n",
    "\n",
    "## OneVsMany(Logistic Regression)\n",
    "Training time: 4.495964\n",
    "\n",
    "Training set\n",
    "precision: 0.935211109867 recall: 0.943932628723 f-score: 0.939551630053\n",
    "\n",
    "Time offset set\n",
    "precision: 0.794883040936 recall: 0.851393673661 f-score: 0.822168456071\n",
    "\n",
    "Mixed test set\n",
    "precision: 0.858002004678 recall: 0.860157427567 f-score: 0.859078364138\n",
    "\n",
    "## Decision Tree Regression\n",
    "Training time: 17.307937\n",
    "\n",
    "Training set\n",
    "precision: 0.0847486557993 recall: 0.0778091208275 f-score: 0.0811307651456\n",
    "\n",
    "Time offset set\n",
    "precision: 0.12194026499 recall: 0.114508646141 f-score: 0.11810766721\n",
    "\n",
    "Mixed test set\n",
    "precision: 0.0915366913833 recall: 0.0826217401339 f-score: 0.0868510431829\n",
    "\n",
    "## AdaBoost(Decision Tree Regression)\n",
    "Training set\n",
    "precision: 0.0976359136298 recall: 0.0896411220812 f-score: 0.0934678704195\n",
    "\n",
    "Time offset set\n",
    "precision: 0.211767347855 recall: 0.198861239983 f-score: 0.205111473627\n",
    "\n",
    "Mixed test set\n",
    "precision: 0.100230120174 recall: 0.0904684975767 f-score: 0.0950994662785\n"
   ]
  },
  {
   "cell_type": "code",
   "execution_count": null,
   "metadata": {
    "collapsed": true
   },
   "outputs": [],
   "source": []
  },
  {
   "cell_type": "code",
   "execution_count": null,
   "metadata": {
    "collapsed": true
   },
   "outputs": [],
   "source": []
  }
 ],
 "metadata": {
  "kernelspec": {
   "display_name": "Python 2",
   "language": "python",
   "name": "python2"
  },
  "language_info": {
   "codemirror_mode": {
    "name": "ipython",
    "version": 2
   },
   "file_extension": ".py",
   "mimetype": "text/x-python",
   "name": "python",
   "nbconvert_exporter": "python",
   "pygments_lexer": "ipython2",
   "version": "2.7.6"
  }
 },
 "nbformat": 4,
 "nbformat_minor": 0
}
